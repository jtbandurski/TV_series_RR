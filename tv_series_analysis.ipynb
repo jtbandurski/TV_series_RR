{
 "cells": [
  {
   "cell_type": "markdown",
   "metadata": {},
   "source": [
    "# Viewership analysis of Brooklyn 9-9 a popular TV Show"
   ]
  },
  {
   "cell_type": "markdown",
   "metadata": {},
   "source": [
    "![alt text](Brooklyn_Nine-Nine_Logo.png \"Title\")"
   ]
  },
  {
   "cell_type": "markdown",
   "metadata": {},
   "source": [
    "## Description\n",
    "\n",
    "**\"Brooklyn Nine-Nine\"** is a comedy series that follows the misadventures of the detectives of the *99th precinct* of the New York City Police Department in Brooklyn. Led by the quirky and talented Detective **Jake Peralta** (played by Andy Samberg), the precinct is filled with a diverse cast of characters, including the no-nonsense **Captain Raymond Holt** (played by Andre Braugher), the tough but kind-hearted Detective **Rosa Diaz** (played by Stephanie Beatriz), the food-loving Detective **Charles Boyle** (played by Joe Lo Truglio), the ambitious and nerdy Detective **Amy Santiago** (played by Melissa Fumero), the eccentric administrative assistant **Gina Linetti** (played by Chelsea Peretti), and the laid-back Sergeant **Terry Jeffords** (played by Terry Crews). Together, they solve crimes, navigate office politics, and form an unbreakable bond, all while delivering laughs and heartfelt moments. With its witty humor, lovable characters, and clever writing, \"Brooklyn Nine-Nine\" has become a beloved sitcom known for its blend of comedy and heart.\n",
    "\n",
    "*I highly recommend watching Brooklyn 9-9 in your free time!*\n",
    "\n",
    "***Nine! Nine!***"
   ]
  },
  {
   "cell_type": "markdown",
   "metadata": {},
   "source": [
    "## Sources:\n",
    "- Data: https://www.kaggle.com/code/bcruise/brooklyn-99-imdb-ratings/input?scriptVersionId=80873732\n",
    "- Facts: https://en.wikipedia.org/wiki/Brooklyn_Nine-Nine\n"
   ]
  }
 ],
 "metadata": {
  "kernelspec": {
   "display_name": "Python 3",
   "language": "python",
   "name": "python3"
  },
  "language_info": {
   "codemirror_mode": {
    "name": "ipython",
    "version": 3
   },
   "file_extension": ".py",
   "mimetype": "text/x-python",
   "name": "python",
   "nbconvert_exporter": "python",
   "pygments_lexer": "ipython3",
   "version": "3.10.11"
  }
 },
 "nbformat": 4,
 "nbformat_minor": 2
}
